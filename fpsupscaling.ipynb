{
 "cells": [
  {
   "cell_type": "markdown",
   "metadata": {
    "colab_type": "text",
    "id": "view-in-github"
   },
   "source": [
    "<a href=\"https://colab.research.google.com/github/BirHic/Depth-Asena/blob/main/DepthV2.ipynb\" target=\"_parent\"><img src=\"https://colab.research.google.com/assets/colab-badge.svg\" alt=\"Open In Colab\"/></a>"
   ]
  },
  {
   "cell_type": "markdown",
   "metadata": {
    "id": "ufKsJWw_NUxY"
   },
   "source": [
    " ## **Asena PLUG / Interpolation**\n",
    " \n",
    "`Kullanımı:`\n",
    "- Google Drive üzerinde \\\"`DAIN`\\\" adlı bir klasör oluşturun.\n",
    "- Google Drive üzerinde \\\"`videos`\\\" adlı bir klasör oluşturun.\n",
    " \n",
    "- Önemli Not: Videoları \\\"`videos`\\\" klasörüne yükleyin. \\\"`DAIN`\\\" adlı klasöre hiçbir dosya yüklemeyin."
   ]
  },
  {
   "cell_type": "markdown",
   "metadata": {
    "id": "iH9-RLwWOjgE"
   },
   "source": [
    "- `Önemli Not`: Sayfa yenilenirse yada bağlantı koparsa işlemleri en baştan yapmanız gerekecektir. Bunun önüne geçmek için çift ekran kullanabilirsiniz."
   ]
  },
  {
   "cell_type": "code",
   "execution_count": 139,
   "metadata": {
    "cellView": "form",
    "id": "MFjr1BIUPC4c"
   },
   "outputs": [],
   "source": [
    "#@markdown # Gerekli Kurulum\n",
    " \n",
    "#@markdown ## Input file\n",
    "#@markdown Lütfen sadece `mp4` ve `gif` formatında video yükleyin. Sadece `720p` ve altı çözünürlüğe sahip videolar desteklenir. Sadece `input.mp4` yazan yeri yüklediğiniz video ismi ile değiştirin.\n",
    "INPUT_FILEPATH = \"videos/yourfile.mp4\" #@param{type:\"string\"}\n",
    " \n",
    "#@markdown ## Output file\n",
    "#@markdown Sadece `output.mp4` yazan yeri belirlediğiniz bir isim ile değiştirin. \n",
    "OUTPUT_FILE_PATH = \"DAIN/output.mp4\" #@param{type:\"string\"}\n",
    " \n",
    " \n",
    "#@markdown ## Hedef FPS\n",
    "#@markdown Yüksek FPS değeri daha uzun süre işlem gerektirir\n",
    "TARGET_FPS =  120#@param{type:\"number\"}\n",
    " \n",
    "#@markdown `AŞAĞIDAKİ KODLARI BİLGİNİZ OLMADAN DOKUNMAYIN`\n",
    " \n",
    "#@markdown ## Frame input directory\n",
    "#@markdown Ana GDrive Root Dizininde, Elde Edilen PNG Dosyalarının Hangi Klasörün İçine oluşturulacağını seçin. Örnek PNG Adları 00001.png, 00002.png\n",
    "FRAME_INPUT_DIR = '/content/DAIN/input_frames' #@param{type:\"string\"}\n",
    " \n",
    "#@markdown ## Frame output directory\n",
    "#@markdown Ana GDrive Root Dizininde, Oluşturulan PNG Dosyalarının Hangi Klasörün İçine Yerleştirileceğini seçin.\n",
    "FRAME_OUTPUT_DIR = '/content/DAIN/output_frames' #@param{type:\"string\"}\n",
    " \n",
    "#@markdown ## Seamless playback\n",
    "#@markdown Perfect Loop İçin İlk ve Son Kareleri Birleştirir. Etkinleştirme için Tike Basın.\n",
    "SEAMLESS = True #@param{type:\"boolean\"}\n",
    " \n",
    "#@markdown ## Resize hotfix\n",
    "#@markdown Interpolate frameleri, orijinal girdi çerçevelerine kıyasla biraz \\ \"kaymış / daha küçük \\\". Bu, Interpolate frame'lerini + 2px çözünürlüğe yeniden boyutlandırarak ve sonucu başlangıç ​​noktası (1,1) ile orijinal boyutuna kırparak kısmen hafifletilebilir. Bu düzeltme olmadan Interpolate, \\ \"titreşimli \\\" çıktı oluşturma eğilimindedir ve metin gibi statik öğelerle oldukça fark edilir.\n",
    "#@markdown\n",
    "#@markdown Bu düzeltme, daha yumuşak bir videoyu ayarlamak için bu tür efektleri daha az görünür kılmaya çalışır. CVPR 2018'in bu sorun için düzeltme olarak neyi kullandığını bilmiyorum, ancak orijinal, varsayılan test görüntülerinde böyle bir davranış gösteriyor. Daha ileri düzey kullanıcılar Interpolation yöntemini değiştirebilir. Cv2.INTER_CUBIC ve cv2.INTER_LANCZOS4 yöntemleri önerilir. Geçerli varsayılan değer cv2.INTER_LANCZOS4'tür.\n",
    "RESIZE_HOTFIX = True #@param{type:\"boolean\"}\n",
    " \n",
    "#@markdown ## Auto-remove PNG directory\n",
    "#@markdown Ffmpeg video oluşturulduktan sonra çıktı PNG dizinini otomatik siler. PNG dosyalarını saklamak istiyorsanız bunu \"False\" olarak ayarlayın.\n",
    "AUTO_REMOVE = True #@param{type:\"boolean\"}"
   ]
  },
  {
   "cell_type": "markdown",
   "metadata": {
    "id": "X2EY3xonRyNh"
   },
   "source": [
    "# Modüller Yükleniyor...\n",
    "Hiçbir modül bağlı olduğunuz internet üzerinden indirilmez. Data harcaması - Bellek kullanımı yapmaz."
   ]
  },
  {
   "cell_type": "code",
   "execution_count": null,
   "metadata": {
    "id": "OKrwCZFrRq0G"
   },
   "outputs": [],
   "source": [
    "# Connect Google Drive\n",
    "from google.colab import drive\n",
    "drive.mount('/content/gdrive')\n",
    "print('Google Drive connected.')"
   ]
  },
  {
   "cell_type": "code",
   "execution_count": null,
   "metadata": {
    "id": "HJ0qubNwR8CE"
   },
   "outputs": [],
   "source": [
    "# PyTorch ve SciPy Mödüllerinin en bilinen versiyonları yükleniyor...\n",
    " \n",
    "!apt-get update\n",
    "!pip install torch==1.13.1 torchvision==0.14.1+rocm5.2 -f https://download.pytorch.org/whl/torch_stable.html\n",
    "!pip install scipy==1.10.0\n",
    " \n",
    "print(\"Done!\")"
   ]
  },
  {
   "cell_type": "code",
   "execution_count": null,
   "metadata": {
    "id": "LSTmNqkySG_g"
   },
   "outputs": [],
   "source": [
    "# Interpolate Dosyaları Klonlanıyor...\n",
    " \n",
    "%cd /content\n",
    "!rm -rf DAIN\n",
    "!git clone -b colab-compatibility --depth 1 https://github.com/AlphaGit/DAIN /content/DAIN\n",
    "%cd /content/DAIN\n",
    "!git log -1"
   ]
  },
  {
   "cell_type": "code",
   "execution_count": null,
   "metadata": {
    "id": "_CqiDjUCSZbW"
   },
   "outputs": [],
   "source": [
    "# Bu Aşama 10-15 Dakika Sürecektir.\n",
    "# Interpolate Yükleniyor.\n",
    " \n",
    "%cd /content/DAIN/my_package/\n",
    "!./build.sh\n",
    "print(\"Done!\")"
   ]
  },
  {
   "cell_type": "code",
   "execution_count": null,
   "metadata": {
    "id": "MvZJ4xwOSmn-"
   },
   "outputs": [],
   "source": [
    "# Bu Aşama 5 Dakika Sürecektir.\n",
    "# PyTorch Dosyaları Yükleniyor.\n",
    " \n",
    "%cd /content/DAIN/PWCNet/correlation_package_pytorch1_0\n",
    "!./build.sh\n",
    "print(\"Done!\")"
   ]
  },
  {
   "cell_type": "markdown",
   "metadata": {
    "id": "an-6iYvwTGl2"
   },
   "source": [
    " - `Önemli Not:` Sayfayı yenilemeden, bağlantıyı kesmeden birden fazla işlem yapmak için yukarıdaki video ismini, hedef fps'i vs. değiştirdikten sonra aşağıdaki koddan itibaren çalıştırın."
   ]
  },
  {
   "cell_type": "code",
   "execution_count": 118,
   "metadata": {
    "id": "yu188fLxTJBN"
   },
   "outputs": [],
   "source": [
    "# BU KODU BİRDEN FAZLA İŞLEMLERDE KULLANIN.\n",
    "# İkinci bir videoyu Interpolate etmeden bu kodu kullanarak eski PNG dosyalarını silin.\n",
    "if(AUTO_REMOVE):\n",
    "  !rm -rf {FRAME_OUTPUT_DIR}/*"
   ]
  },
  {
   "cell_type": "code",
   "execution_count": null,
   "metadata": {
    "id": "EA2ZpOMRTayq"
   },
   "outputs": [],
   "source": [
    "# Pre-trained Modeller İndiriliyor.\n",
    " \n",
    "%cd /content/DAIN\n",
    "!mkdir model_weights\n",
    "!wget -O model_weights/best.pth http://vllab1.ucmerced.edu/~wenbobao/DAIN/best.pth"
   ]
  },
  {
   "cell_type": "code",
   "execution_count": null,
   "metadata": {
    "id": "T9JzMCwvNS_M"
   },
   "outputs": [],
   "source": [
    "!CUDA_VISIBLE_DEVICES=0\n",
    "!sudo apt-get install imagemagick imagemagick-doc\n",
    "print(\"Done!\")"
   ]
  },
  {
   "cell_type": "code",
   "execution_count": 140,
   "metadata": {
    "id": "nd4wpDfiTscC"
   },
   "outputs": [],
   "source": [
    " \n",
    "# Videodaki FPS Değeri Hesaplanıyor.\n",
    " \n",
    "%shell yes | cp -f /content/gdrive/My\\ Drive/{INPUT_FILEPATH} /content/DAIN/\n",
    " \n",
    "import os\n",
    "filename = os.path.basename(INPUT_FILEPATH)\n",
    " \n",
    "import cv2\n",
    "cap = cv2.VideoCapture(f'/content/DAIN/{filename}')\n",
    " \n",
    "fps = cap.get(cv2.CAP_PROP_FPS)\n",
    " \n",
    "if(fps/TARGET_FPS>0.5):\n",
    "  print(\"DAHA YÜKSEK FPS DEĞERİ GİRİN. YENİ GİRDİĞİNİZ FPS DEĞERİ ORİJİNAL VİDEONUN 2 KATI OLMALIDIR\")"
   ]
  },
  {
   "cell_type": "code",
   "execution_count": null,
   "metadata": {
    "id": "7qhYERkOT8ZL"
   },
   "outputs": [],
   "source": [
    "# ffmpeg çıkarılıyor. Yeni kareler için alan açılıyor.\n",
    "%shell rm -rf '{FRAME_INPUT_DIR}'\n",
    "%shell mkdir -p '{FRAME_INPUT_DIR}'\n",
    " \n",
    "%shell ffmpeg -i '/content/DAIN/{filename}' '{FRAME_INPUT_DIR}/%05d.png'\n",
    " \n",
    "png_generated_count_command_result = %shell ls '{FRAME_INPUT_DIR}' | wc -l\n",
    "from IPython.display import clear_output\n",
    "clear_output()\n",
    " \n",
    "pngs_generated_count = int(png_generated_count_command_result.output.strip())\n",
    " \n",
    "import shutil\n",
    "if SEAMLESS==True:\n",
    "  pngs_generated_count += 1\n",
    "  original = str(FRAME_INPUT_DIR)+\"/00001.png\"\n",
    "  target = str(FRAME_INPUT_DIR)+\"/\"+str(pngs_generated_count).zfill(5)+\".png\"\n",
    "  shutil.copyfile(original, target)\n",
    " \n",
    "print(f\"Input FPS: {fps}\")\n",
    "print(f\"{pngs_generated_count} frame PNGs generated.\")\n",
    " \n",
    "# Alpha oranına bakılıyor\n",
    "import subprocess as sp\n",
    "%cd {FRAME_INPUT_DIR}\n",
    "channels = sp.getoutput('identify -format %[channels] 00001.png')\n",
    "print (f\"{channels} detected\")\n",
    " \n",
    "# Belirlenen Alpha'lar siliniyor\n",
    "if \"a\" in channels:\n",
    "  print(\"Alpha detected and will be removed.\")\n",
    "  print(sp.getoutput('find . -name \"*.png\" -exec convert \"{}\" -alpha off PNG24:\"{}\" \\;'))"
   ]
  },
  {
   "cell_type": "code",
   "execution_count": null,
   "metadata": {
    "id": "GMrdzEAoUXk7"
   },
   "outputs": [],
   "source": [
    "# Interpolation\n",
    "%shell mkdir -p '{FRAME_OUTPUT_DIR}'\n",
    "%cd /content/DAIN\n",
    " \n",
    "!python -W ignore colab_interpolate.py --netName DAIN_slowmotion --time_step {fps/TARGET_FPS} --start_frame 1 --end_frame {pngs_generated_count} --frame_input_dir '{FRAME_INPUT_DIR}' --frame_output_dir '{FRAME_OUTPUT_DIR}'"
   ]
  },
  {
   "cell_type": "code",
   "execution_count": null,
   "metadata": {
    "id": "lQ6iv2U3UdSY"
   },
   "outputs": [],
   "source": [
    "# Dosyalar Bulunuyor, Orijinali ile Eşleşmesi İçin Sıkıştırılıyor...\n",
    " \n",
    "import numpy as np\n",
    "%cd {FRAME_OUTPUT_DIR}\n",
    "if(RESIZE_HOTFIX==True):\n",
    "  images = []\n",
    "  for filename in os.listdir(f'{FRAME_OUTPUT_DIR}'):\n",
    "    img = cv2.imread(os.path.join(f'{FRAME_OUTPUT_DIR}',filename))\n",
    "    part_filename = os.path.splitext(filename)\n",
    "    if(part_filename[0].endswith('0')==False):\n",
    "      dimension = (img.shape[1]+2, img.shape[0]+2)\n",
    "      resized = cv2.resize(img, dimension, interpolation=cv2.INTER_LANCZOS4)\n",
    "      crop = resized[1:(dimension[1]-1), 1:(dimension[0]-1)]\n",
    "      cv2.imwrite(part_filename[0]+\".png\", crop)\n",
    " \n",
    "%cd /content/DAIN"
   ]
  },
  {
   "cell_type": "code",
   "execution_count": null,
   "metadata": {
    "id": "WcRBjOI2UuMi"
   },
   "outputs": [],
   "source": [
    "# Video Oluşturuluyor...\n",
    " \n",
    "%cd {FRAME_OUTPUT_DIR}\n",
    "%shell ffmpeg -y -r {TARGET_FPS} -f image2 -pattern_type glob -i '*.png' '/content/gdrive/My Drive/{OUTPUT_FILE_PATH}'"
   ]
  },
  {
   "cell_type": "markdown",
   "metadata": {
    "id": "KLhrSlXvVDr0"
   },
   "source": [
    " ## 30 Saniye bekledikten sonra videonuz `DAIN` klasöründe olacaktır. Drive'ı açarak kontrol edebilirsiniz.\n",
    "#`Önemli Not`:\n",
    "Eğer 'Bu video oynatılamıyor' hatası alıyorsanız lütfen biraz bekleyin. Hala Drive üzerinde açamıyorsanız 3. Parti uygulamalar ile açabilirsiniz. Videolari çok daha kolay bir şekilde oynamak için ise android üzerinde `Audio Video Factory`, PC üzerinde ise `WinX HD Video Conventer` uygulamalarını kullanabilirsiniz. IOS kullanıcılarının ek bir uygulamaya ihtiyacı yoktur."
   ]
  },
  {
   "cell_type": "markdown",
   "metadata": {
    "id": "TGhqmgudVVcI"
   },
   "source": [
    " ` AŞAĞIDAKİ KOMUTLAR HER ZAMAN ÇALIŞMAYABİLİR. KULLANIMINI BİLENLER HARİCİ KODLARLA OYNAMAYIN`"
   ]
  },
  {
   "cell_type": "code",
   "execution_count": null,
   "metadata": {
    "id": "-J9NsCFqVbnw"
   },
   "outputs": [],
   "source": [
    "# [Experimental] Create video with sound\n",
    "# Only run this, if the original had sound.\n",
    "%cd {FRAME_OUTPUT_DIR}\n",
    "%shell ffmpeg -i '/content/DAIN/{filename}' -acodec copy output-audio.aac\n",
    "%shell ffmpeg -y -r {TARGET_FPS} -f image2 -pattern_type glob -i '*.png' -i output-audio.aac -shortest '/content/gdrive/My Drive/{OUTPUT_FILE_PATH}'\n",
    "\n",
    "if (AUTO_REMOVE):\n",
    "  !rm -rf {FRAME_OUTPUT_DIR}/*\n",
    "  !rm -rf output-audio.aac"
   ]
  }
 ],
 "metadata": {
  "accelerator": "GPU",
  "colab": {
   "include_colab_link": true,
   "name": "DepthV1.ipynb",
   "provenance": []
  },
  "kernelspec": {
   "display_name": "Python 3 (ipykernel)",
   "language": "python",
   "name": "python3"
  },
  "language_info": {
   "codemirror_mode": {
    "name": "ipython",
    "version": 3
   },
   "file_extension": ".py",
   "mimetype": "text/x-python",
   "name": "python",
   "nbconvert_exporter": "python",
   "pygments_lexer": "ipython3",
   "version": "3.10.6"
  }
 },
 "nbformat": 4,
 "nbformat_minor": 1
}
